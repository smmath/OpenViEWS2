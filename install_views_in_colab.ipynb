{
  "nbformat": 4,
  "nbformat_minor": 0,
  "metadata": {
    "colab": {
      "name": "install_views_in_colab.ipynb",
      "provenance": [],
      "authorship_tag": "ABX9TyMdy3XUvL36XM7LT0h1WDLL",
      "include_colab_link": true
    },
    "kernelspec": {
      "name": "python3",
      "display_name": "Python 3"
    }
  },
  "cells": [
    {
      "cell_type": "markdown",
      "metadata": {
        "id": "view-in-github",
        "colab_type": "text"
      },
      "source": [
        "<a href=\"https://colab.research.google.com/github/smmath/OpenViEWS2/blob/master/install_views_in_colab.ipynb\" target=\"_parent\"><img src=\"https://colab.research.google.com/assets/colab-badge.svg\" alt=\"Open In Colab\"/></a>"
      ]
    },
    {
      "cell_type": "markdown",
      "metadata": {
        "id": "da5enMKFU9wE",
        "colab_type": "text"
      },
      "source": [
        "Run the below cells to install the OpenViEWS2 environment within a Google Colab session. For this to work you should have a copy of this repository https://github.com/smmath/OpenViEWS2 in the root directory of your Google Drive. After installation, any shell command which requires the views environment must be prefixed by `source activate views2 &&`."
      ]
    },
    {
      "cell_type": "code",
      "metadata": {
        "id": "sxOiGLhVUisn",
        "colab_type": "code",
        "colab": {}
      },
      "source": [
        "# Install Conda onto Colab.\n",
        "! wget https://repo.anaconda.com/miniconda/Miniconda3-py37_4.8.2-Linux-x86_64.sh\n",
        "! chmod +x Miniconda3-py37_4.8.2-Linux-x86_64.sh\n",
        "! bash ./Miniconda3-py37_4.8.2-Linux-x86_64.sh -b -f -p /usr/local\n",
        "import sys\n",
        "sys.path.append('/usr/local/lib/python3.7/site-packages/')"
      ],
      "execution_count": null,
      "outputs": []
    },
    {
      "cell_type": "code",
      "metadata": {
        "id": "aqczj84nUpvk",
        "colab_type": "code",
        "colab": {}
      },
      "source": [
        "# Authenticate Google Drive. Follow the prompt to get the authentication code.\n",
        "from google.colab import drive\n",
        "drive.mount('/content/drive')"
      ],
      "execution_count": null,
      "outputs": []
    },
    {
      "cell_type": "code",
      "metadata": {
        "id": "DemWfzatU3yn",
        "colab_type": "code",
        "colab": {}
      },
      "source": [
        "# Run OpenViEWS2 install script\n",
        "!chmod +x /content/drive/My\\ \\Drive/OpenViEWS2/install_views2.sh\n",
        "!/content/drive/My\\ \\Drive/OpenViEWS2/install_views2.sh"
      ],
      "execution_count": null,
      "outputs": []
    },
    {
      "cell_type": "code",
      "metadata": {
        "id": "wnEnlv6qU7NF",
        "colab_type": "code",
        "colab": {}
      },
      "source": [
        "# Fetch the data. This will take a WHILE.\n",
        "!source activate views2 && python \"/content/drive/My Drive/OpenViEWS2/runners/import_data.py\" --fetch --dataset"
      ],
      "execution_count": null,
      "outputs": []
    }
  ]
}